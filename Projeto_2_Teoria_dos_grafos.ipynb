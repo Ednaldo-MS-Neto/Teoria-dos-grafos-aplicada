{
 "cells": [
  {
   "cell_type": "markdown",
   "metadata": {},
   "source": [
    "### Alunos:\n",
    "##### Ednaldo Martins Da Silva Neto \n",
    "--\n",
    "##### Denilson Pedro Coutinho Da Silva\n",
    "--"
   ]
  },
  {
   "cell_type": "code",
   "execution_count": 1,
   "metadata": {},
   "outputs": [
    {
     "name": "stdout",
     "output_type": "stream",
     "text": [
      "Qual o arquivo txt: grafo.txt\n"
     ]
    }
   ],
   "source": [
    "file_path = input(\"Qual o arquivo txt: \")"
   ]
  },
  {
   "cell_type": "code",
   "execution_count": 2,
   "metadata": {},
   "outputs": [],
   "source": [
    "grafo = open(file_path, 'r')\n",
    "matrix = grafo.readlines()\n",
    "grafo.close()\n",
    "import copy"
   ]
  },
  {
   "cell_type": "code",
   "execution_count": 3,
   "metadata": {},
   "outputs": [],
   "source": [
    "aux = 0\n",
    "#separando por virgula\n",
    "while aux < len(matrix):\n",
    "    if matrix[aux] == \"\\n\":\n",
    "        local = matrix.index(matrix[aux])\n",
    "        matrix.pop(local)\n",
    "    else:\n",
    "        matrix[aux] = matrix[aux].split(',')\n",
    "        aux += 1\n",
    "#retirando \\n\n",
    "for i in matrix:\n",
    "    local = matrix.index(i) \n",
    "    for k in i:\n",
    "        local2 = matrix[local].index(k) \n",
    "        if \"\\n\" in k:\n",
    "            matrix[local][local2] = k.replace(\"\\n\",'') "
   ]
  },
  {
   "cell_type": "code",
   "execution_count": 4,
   "metadata": {
    "scrolled": true
   },
   "outputs": [],
   "source": [
    "#criação da matriz de adjacencia\n",
    "matrix_a = matrix\n",
    "\n",
    "for i in range(len(matrix)):\n",
    "    aux = matrix_a[i][0]\n",
    "    aux = aux.split()\n",
    "    matrix[i] = aux"
   ]
  },
  {
   "cell_type": "code",
   "execution_count": 5,
   "metadata": {},
   "outputs": [],
   "source": [
    "dim = int(matrix[0][0])\n",
    "del matrix[0]"
   ]
  },
  {
   "cell_type": "code",
   "execution_count": 6,
   "metadata": {},
   "outputs": [],
   "source": [
    "#criação da lista de adjacencia\n",
    "lista_adj = []\n",
    "numero_aresta = 0\n",
    "int(numero_aresta)\n",
    "for i in range(dim):\n",
    "    s1 = []\n",
    "    for j in range(dim):\n",
    "        if(matrix[i][j]=='1'):\n",
    "            s1.append(j)\n",
    "    lista_adj.append(s1)\n",
    "\n",
    "for i in range(dim):\n",
    "    numero_aresta = numero_aresta + len(lista_adj[i])\n"
   ]
  },
  {
   "cell_type": "code",
   "execution_count": 7,
   "metadata": {},
   "outputs": [],
   "source": [
    "matrix_diag = copy.deepcopy(matrix)"
   ]
  },
  {
   "cell_type": "code",
   "execution_count": 8,
   "metadata": {},
   "outputs": [],
   "source": [
    "#matrix_diag = matrix # criação de matrix de diagonal superior\n",
    "for i in range(dim):\n",
    "    for k in range(dim):\n",
    "        if matrix_diag[i][k] == '1':\n",
    "            matrix_diag[k][i] = '0'"
   ]
  },
  {
   "cell_type": "code",
   "execution_count": 9,
   "metadata": {},
   "outputs": [
    {
     "data": {
      "text/plain": [
       "[[1, 2, 3],\n",
       " [0, 2, 3],\n",
       " [0, 1, 3, 4, 5],\n",
       " [0, 1, 2],\n",
       " [2, 5, 6],\n",
       " [2, 4, 6],\n",
       " [4, 5]]"
      ]
     },
     "execution_count": 9,
     "metadata": {},
     "output_type": "execute_result"
    }
   ],
   "source": [
    "lista_adj"
   ]
  },
  {
   "cell_type": "code",
   "execution_count": 10,
   "metadata": {
    "scrolled": true
   },
   "outputs": [
    {
     "data": {
      "text/plain": [
       "[['0', '1', '1', '1', '0', '0', '0'],\n",
       " ['1', '0', '1', '1', '0', '0', '0'],\n",
       " ['1', '1', '0', '1', '1', '1', '0'],\n",
       " ['1', '1', '1', '0', '0', '0', '0'],\n",
       " ['0', '0', '1', '0', '0', '1', '1'],\n",
       " ['0', '0', '1', '0', '1', '0', '1'],\n",
       " ['0', '0', '0', '0', '1', '1', '0']]"
      ]
     },
     "execution_count": 10,
     "metadata": {},
     "output_type": "execute_result"
    }
   ],
   "source": [
    "matrix"
   ]
  },
  {
   "cell_type": "code",
   "execution_count": 11,
   "metadata": {},
   "outputs": [
    {
     "data": {
      "text/plain": [
       "[['0', '1', '1', '1', '0', '0', '0'],\n",
       " ['0', '0', '1', '1', '0', '0', '0'],\n",
       " ['0', '0', '0', '1', '1', '1', '0'],\n",
       " ['0', '0', '0', '0', '0', '0', '0'],\n",
       " ['0', '0', '0', '0', '0', '1', '1'],\n",
       " ['0', '0', '0', '0', '0', '0', '1'],\n",
       " ['0', '0', '0', '0', '0', '0', '0']]"
      ]
     },
     "execution_count": 11,
     "metadata": {},
     "output_type": "execute_result"
    }
   ],
   "source": [
    "matrix_diag"
   ]
  },
  {
   "cell_type": "code",
   "execution_count": 12,
   "metadata": {},
   "outputs": [],
   "source": [
    "class node:\n",
    "    def __init__(self):\n",
    "        self.vizinhos = []\n",
    "        self.pai = None\n",
    "        self.status = False # se foi visitado\n",
    "        self.nivel = 0 # nivel\n",
    "        self.pe = 0 # profundidade de entrada L(v)\n",
    "        self.ps = 0 #profundidade de saida\n",
    "        self.name = None\n",
    "\n",
    "class edge:\n",
    "    def __init__(self):\n",
    "        self.nodes = [] #extremos da aresta \n",
    "        self.color = [0,0,0]\n",
    "        self.colored = False\n",
    "        \n",
    "red = [255,0,0]\n",
    "green = [0,255,0]\n",
    "blue = [0,0,255]\n",
    "yelow = [255,255,0]"
   ]
  },
  {
   "cell_type": "code",
   "execution_count": 13,
   "metadata": {},
   "outputs": [],
   "source": [
    "def esvaziar_listas():\n",
    "    lista_nos = []\n",
    "    lista_edge = []\n",
    "\n",
    "    for i in range(dim):\n",
    "        lista_nos.append(node()) \n",
    "        lista_nos[i].name = i #preenchimento do nome do no \n",
    "    \n",
    "        for k in range(len(lista_adj[i])):\n",
    "            lista_nos[i].vizinhos.append(lista_adj[i][k]) # preenchimento dos viznhos dos nos\n",
    "\n",
    "\n",
    "    for i in range(int(numero_aresta/2)):\n",
    "        lista_edge.append(edge())\n",
    "    aux = 0\n",
    "\n",
    "    for i in range(dim):\n",
    "        for j in range(dim):\n",
    "            if matrix_diag[i][j] == '1':\n",
    "                lista_edge[aux].nodes.append((i,j))# preenchimento dos nodes de cada aresta(uma aresta tem 2 nos )\n",
    "                aux = aux + 1\n",
    "    return lista_nos,lista_edge"
   ]
  },
  {
   "cell_type": "code",
   "execution_count": 14,
   "metadata": {},
   "outputs": [],
   "source": [
    "lista_nos , lista_edge = esvaziar_listas()"
   ]
  },
  {
   "cell_type": "code",
   "execution_count": 15,
   "metadata": {},
   "outputs": [],
   "source": [
    "timer = 0\n",
    "def dfs(vertice_v,timer):\n",
    "    timer = timer+1\n",
    "    lista_nos[vertice_v].pe = timer\n",
    "    \n",
    "    #para todo vertece w em vizinhaça aberta de v faça\n",
    "    for vertice_w in lista_nos[vertice_v].vizinhos: \n",
    "        #se pe(w) = 0\n",
    "        if(lista_nos[vertice_w].pe == 0): \n",
    "            \n",
    "            #visite a aresta vw, pinte ela de AZUL e diga que foi colorida\n",
    "            for k in range(len(lista_edge)): \n",
    "                if(lista_edge[k].nodes[0] == (vertice_v,vertice_w) or lista_edge[k].nodes[0] == (vertice_w,vertice_v)): \n",
    "                    lista_edge[k].color = blue\n",
    "                    lista_edge[k].colored = True\n",
    "            \n",
    "            #pai(w) = v\n",
    "            lista_nos[vertice_w].pai = vertice_v\n",
    "            \n",
    "            # execute o algoritimo recursivo\n",
    "            dfs(vertice_w,timer)# execute o algoritimo recursivo\n",
    "    \n",
    "        #se (ps(w) = 0) e (w != pai(v)) abaixo\n",
    "        elif(lista_nos[vertice_w].ps == 0 and (vertice_w != lista_nos[vertice_v].pai)):\n",
    "            \n",
    "            #visite a aresta vw e pinte ela de VERMELHO e diga que foi colorida\n",
    "            for k in range(len(lista_edge)):   \n",
    "                if(lista_edge[k].nodes[0] == (vertice_w,vertice_v) or lista_edge[k].nodes[0] == (vertice_v,vertice_w)):\n",
    "                    lista_edge[k].color = red\n",
    "                    lista_edge[k].colored = True\n",
    "    \n",
    "    timer = timer + 1\n",
    "    lista_nos[vertice_v].ps = timer"
   ]
  },
  {
   "cell_type": "code",
   "execution_count": 16,
   "metadata": {},
   "outputs": [
    {
     "name": "stdout",
     "output_type": "stream",
     "text": [
      "Vertice raiz: 0\n"
     ]
    }
   ],
   "source": [
    "raiz = int(input(\"Vertice raiz: \"))"
   ]
  },
  {
   "cell_type": "code",
   "execution_count": 18,
   "metadata": {},
   "outputs": [],
   "source": [
    "dfs(raiz,timer)"
   ]
  },
  {
   "cell_type": "code",
   "execution_count": 19,
   "metadata": {},
   "outputs": [
    {
     "name": "stdout",
     "output_type": "stream",
     "text": [
      "[0, 0, 255]\n",
      "[255, 0, 0]\n",
      "[255, 0, 0]\n",
      "[0, 0, 255]\n",
      "[255, 0, 0]\n",
      "[0, 0, 255]\n",
      "[0, 0, 255]\n",
      "[255, 0, 0]\n",
      "[0, 0, 255]\n",
      "[255, 0, 0]\n",
      "[0, 0, 255]\n"
     ]
    }
   ],
   "source": [
    "for i in range(len(lista_edge)):\n",
    "    print(lista_edge[i].color)"
   ]
  },
  {
   "cell_type": "code",
   "execution_count": 20,
   "metadata": {},
   "outputs": [
    {
     "name": "stdout",
     "output_type": "stream",
     "text": [
      "(0, 1)\n",
      "(0, 2)\n",
      "(0, 3)\n",
      "(1, 2)\n",
      "(1, 3)\n",
      "(2, 3)\n",
      "(2, 4)\n",
      "(2, 5)\n",
      "(4, 5)\n",
      "(4, 6)\n",
      "(5, 6)\n"
     ]
    }
   ],
   "source": [
    "for i in range(len(lista_edge)):\n",
    "    print(lista_edge[i].nodes[0])"
   ]
  },
  {
   "cell_type": "markdown",
   "metadata": {},
   "source": [
    "# Criando arquivo dfs(profundidade)"
   ]
  },
  {
   "cell_type": "code",
   "execution_count": 21,
   "metadata": {},
   "outputs": [
    {
     "data": {
      "text/plain": [
       "<_io.TextIOWrapper name='arquivo_dfs.gdf' mode='w' encoding='cp1252'>"
      ]
     },
     "execution_count": 21,
     "metadata": {},
     "output_type": "execute_result"
    }
   ],
   "source": [
    "grafo = open('arquivo_dfs.gdf', 'w')\n",
    "grafo.write(\"nodedef>name VARCHAR,label VARCHAR\\n\")\n",
    "\n",
    "for i in range(dim):\n",
    "    grafo.write(f'{i+1},{i+1}\\n')\n",
    "grafo.write(\"edgedef>node1 VARCHAR,node2 VARCHAR,directed BOOLEAN,color VARCHAR\\n\")\n",
    "\n",
    "for i in range(len(lista_edge)):\n",
    "    color = f'{lista_edge[i].color[0]},{lista_edge[i].color[1]},{lista_edge[i].color[2]}'\n",
    "    grafo.write(f'{lista_edge[i].nodes[0][0]+1},{lista_edge[i].nodes[0][1]+1},false,{color}\\n')\n",
    "\n",
    "grafo.close()\n",
    "\n",
    "grafo"
   ]
  },
  {
   "cell_type": "markdown",
   "metadata": {},
   "source": [
    "# Implementação bfs(largura)"
   ]
  },
  {
   "cell_type": "code",
   "execution_count": 22,
   "metadata": {},
   "outputs": [],
   "source": [
    "lista_node , lista_aresta = esvaziar_listas()"
   ]
  },
  {
   "cell_type": "code",
   "execution_count": 23,
   "metadata": {},
   "outputs": [],
   "source": [
    "def bfs():\n",
    "    fila = []\n",
    "    timer = 0\n",
    "    for i in range(dim):\n",
    "        if(lista_node[i].pe == 0):\n",
    "            timer = timer +1\n",
    "            lista_node[i].nivel = 0\n",
    "            lista_node[i].pe = timer\n",
    "            fila.append(i)\n",
    "            while fila:\n",
    "                vertice_v = fila[0]\n",
    "                fila.pop(0)\n",
    "                for vertice_w in lista_node[vertice_v].vizinhos:\n",
    "                    #pai \n",
    "                    if lista_node[vertice_w].pe == 0  :\n",
    "                        for k in range(len(lista_aresta)): \n",
    "                            if(lista_aresta[k].nodes[0] == (lista_node[vertice_v].name,lista_node[vertice_w].name) or lista_aresta[k].nodes[0] == (lista_node[vertice_w].name,lista_node[vertice_v].name)): \n",
    "                                lista_aresta[k].color = blue\n",
    "                                lista_node[vertice_w].nivel = lista_node[vertice_v].nivel + 1 #nivel\n",
    "                                timer = timer + 1 \n",
    "                                lista_node[vertice_w].pe = timer # l(w) = t\n",
    "                                lista_node[vertice_w].pai = vertice_v # pai de w é v\n",
    "                                fila.append(vertice_w) #coloque w no fim da fila\n",
    "                                \n",
    "                    #primo ou irmão\n",
    "                    elif(lista_node[vertice_w].nivel == lista_node[vertice_v].nivel):\n",
    "                        \n",
    "                        #irmão\n",
    "                        if(lista_node[vertice_w].pai == lista_node[vertice_v].pai):\n",
    "                            for k in range(len(lista_aresta)): \n",
    "                                if(lista_aresta[k].nodes[0] == (lista_node[vertice_v].name,lista_node[vertice_w].name) or lista_aresta[k].nodes[0] == (lista_node[vertice_w].name,lista_node[vertice_v].name)):  \n",
    "                                    lista_aresta[k].color = red        \n",
    "                        #primo        \n",
    "                        else:\n",
    "                            for k in range(len(lista_aresta)): \n",
    "                                if(lista_aresta[k].nodes[0] == (lista_node[vertice_v].name,lista_node[vertice_w].name) or lista_aresta[k].nodes[0] == (lista_node[vertice_w].name,lista_node[vertice_v].name)): \n",
    "                                    lista_aresta[k].color = yelow            \n",
    "                    #tio\n",
    "                    elif(lista_node[vertice_w].nivel == ((lista_node[vertice_v].nivel)+1)):\n",
    "                        for k in range(len(lista_aresta)): \n",
    "                                if(lista_aresta[k].nodes[0] == (lista_node[vertice_v].name,lista_node[vertice_w].name) or lista_aresta[k].nodes[0] == (lista_node[vertice_w].name,lista_node[vertice_v].name)): \n",
    "                                    lista_aresta[k].color = green\n",
    "                                    "
   ]
  },
  {
   "cell_type": "code",
   "execution_count": 24,
   "metadata": {},
   "outputs": [],
   "source": [
    "bfs()"
   ]
  },
  {
   "cell_type": "code",
   "execution_count": 25,
   "metadata": {},
   "outputs": [
    {
     "name": "stdout",
     "output_type": "stream",
     "text": [
      "[0, 0, 255]\n",
      "[0, 0, 255]\n",
      "[0, 0, 255]\n",
      "[255, 0, 0]\n",
      "[255, 0, 0]\n",
      "[255, 0, 0]\n",
      "[0, 0, 255]\n",
      "[0, 0, 255]\n",
      "[255, 0, 0]\n",
      "[0, 0, 255]\n",
      "[0, 255, 0]\n"
     ]
    }
   ],
   "source": [
    "for i in range(len(lista_aresta)):\n",
    "    print(lista_aresta[i].color)"
   ]
  },
  {
   "cell_type": "markdown",
   "metadata": {},
   "source": [
    "# Criando arquivo bfs()"
   ]
  },
  {
   "cell_type": "code",
   "execution_count": 26,
   "metadata": {},
   "outputs": [
    {
     "data": {
      "text/plain": [
       "<_io.TextIOWrapper name='arquivo_bfs.gdf' mode='w' encoding='cp1252'>"
      ]
     },
     "execution_count": 26,
     "metadata": {},
     "output_type": "execute_result"
    }
   ],
   "source": [
    "grafo = open('arquivo_bfs.gdf', 'w')\n",
    "grafo.write(\"nodedef>name VARCHAR,label VARCHAR\\n\")\n",
    "\n",
    "for i in range(dim):\n",
    "    grafo.write(f'{i+1},{i+1}\\n')\n",
    "grafo.write(\"edgedef>node1 VARCHAR,node2 VARCHAR,directed BOOLEAN,color VARCHAR\\n\")\n",
    "\n",
    "for i in range(len(lista_edge)):\n",
    "    color = f'{lista_aresta[i].color[0]},{lista_aresta[i].color[1]},{lista_aresta[i].color[2]}'\n",
    "    grafo.write(f'{lista_aresta[i].nodes[0][0]+1},{lista_aresta[i].nodes[0][1]+1},false,{color}\\n')\n",
    "\n",
    "grafo.close()\n",
    "\n",
    "grafo"
   ]
  },
  {
   "cell_type": "markdown",
   "metadata": {},
   "source": [
    "## Raio, diametro e excentricidade"
   ]
  },
  {
   "cell_type": "code",
   "execution_count": 27,
   "metadata": {},
   "outputs": [],
   "source": [
    "def bfs_2(raiz):\n",
    "    lista_node_aux , lista_aresta_aux = esvaziar_listas()\n",
    "    fila = []\n",
    "    timer = 1\n",
    "    lista_node_aux[raiz].nivel = 0\n",
    "    lista_node_aux[raiz].pe = timer\n",
    "    fila.append(raiz)\n",
    "    lista_diametro = []\n",
    "    diametro = 0\n",
    "    \n",
    "    while fila:\n",
    "        vertice_v = fila[0]\n",
    "        fila.pop(0)\n",
    "        for vertice_w in lista_node_aux[vertice_v].vizinhos:\n",
    "            if lista_node_aux[vertice_w].pe == 0 :\n",
    "                for k in range(len(lista_aresta_aux)): \n",
    "                    if(lista_aresta_aux[k].nodes[0] == (lista_node_aux[vertice_v].name,lista_node_aux[vertice_w].name) or lista_aresta_aux[k].nodes[0] == (lista_node_aux[vertice_w].name,lista_node_aux[vertice_v].name)):\n",
    "                        lista_node_aux[vertice_w].nivel = lista_node_aux[vertice_v].nivel + 1 #nivel\n",
    "                        timer = timer + 1 \n",
    "                        lista_node_aux[vertice_w].pe = timer # l(w) = t\n",
    "                        lista_diametro.append(lista_node_aux[vertice_w].nivel)\n",
    "                        fila.append(vertice_w) #coloque w no fim da fila\n",
    "    \n",
    "    aux = 0\n",
    "    for i in range(len(lista_node)):\n",
    "        aux = aux + lista_node_aux[i].nivel \n",
    "    \n",
    "    return(max(lista_diametro),aux)\n",
    "  "
   ]
  },
  {
   "cell_type": "code",
   "execution_count": 28,
   "metadata": {
    "scrolled": true
   },
   "outputs": [],
   "source": [
    "aux = []\n",
    "aux_1 = 0\n",
    "aux_2 = 0\n",
    "aux_3 = 0\n",
    "for i in range(dim):\n",
    "    aux_1,aux_3 = bfs_2(i)\n",
    "    #exc.append(exc_1)\n",
    "    aux.append(aux_1)\n",
    "    aux_2 = aux_2+aux_3\n",
    "\n",
    "raio = min(aux)\n",
    "diametro = max(aux)\n",
    "comprimento_medio = aux_2/(dim*(dim-1))"
   ]
  },
  {
   "cell_type": "code",
   "execution_count": 32,
   "metadata": {},
   "outputs": [
    {
     "name": "stdout",
     "output_type": "stream",
     "text": [
      "ola\n"
     ]
    }
   ],
   "source": [
    "raio\n",
    "print(\"ola\")"
   ]
  },
  {
   "cell_type": "code",
   "execution_count": 30,
   "metadata": {
    "scrolled": false
   },
   "outputs": [
    {
     "data": {
      "text/plain": [
       "3"
      ]
     },
     "execution_count": 30,
     "metadata": {},
     "output_type": "execute_result"
    }
   ],
   "source": [
    "diametro"
   ]
  },
  {
   "cell_type": "code",
   "execution_count": 31,
   "metadata": {},
   "outputs": [
    {
     "data": {
      "text/plain": [
       "1.619047619047619"
      ]
     },
     "execution_count": 31,
     "metadata": {},
     "output_type": "execute_result"
    }
   ],
   "source": [
    "comprimento_medio "
   ]
  }
 ],
 "metadata": {
  "kernelspec": {
   "display_name": "Python 3 (ipykernel)",
   "language": "python",
   "name": "python3"
  },
  "language_info": {
   "codemirror_mode": {
    "name": "ipython",
    "version": 3
   },
   "file_extension": ".py",
   "mimetype": "text/x-python",
   "name": "python",
   "nbconvert_exporter": "python",
   "pygments_lexer": "ipython3",
   "version": "3.9.7"
  }
 },
 "nbformat": 4,
 "nbformat_minor": 4
}
