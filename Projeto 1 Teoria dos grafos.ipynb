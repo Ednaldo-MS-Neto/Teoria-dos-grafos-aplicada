{
 "cells": [
  {
   "cell_type": "markdown",
   "metadata": {},
   "source": [
    "Aluno:Ednaldo Martins da Silva Neto\n",
    "\n",
    "Matrícula:20180037659"
   ]
  },
  {
   "cell_type": "code",
   "execution_count": 125,
   "metadata": {},
   "outputs": [
    {
     "name": "stdout",
     "output_type": "stream",
     "text": [
      "Qual o arquivo txt: grafo.txt\n"
     ]
    }
   ],
   "source": [
    "file_path = input(\"Qual o arquivo txt: \")"
   ]
  },
  {
   "cell_type": "code",
   "execution_count": 126,
   "metadata": {},
   "outputs": [],
   "source": [
    "grafo = open(file_path, 'r')\n",
    "matrix = grafo.readlines()"
   ]
  },
  {
   "cell_type": "code",
   "execution_count": 127,
   "metadata": {},
   "outputs": [],
   "source": [
    "aux = 0\n",
    "#separando por virgula\n",
    "while aux < len(matrix):\n",
    "    if matrix[aux] == \"\\n\":\n",
    "        local = matrix.index(matrix[aux])\n",
    "        matrix.pop(local)\n",
    "    else:\n",
    "        matrix[aux] = matrix[aux].split(',')\n",
    "        aux += 1\n",
    "#retirando \\n\n",
    "for i in matrix:\n",
    "    local = matrix.index(i) \n",
    "    for k in i:\n",
    "        local2 = matrix[local].index(k) \n",
    "        if \"\\n\" in k:\n",
    "            matrix[local][local2] = k.replace(\"\\n\",'') "
   ]
  },
  {
   "cell_type": "code",
   "execution_count": 128,
   "metadata": {},
   "outputs": [],
   "source": [
    "#criação da matriz de adjacencia\n",
    "matrix_a = matrix\n",
    "\n",
    "for i in range(len(matrix)):\n",
    "    aux = matrix_a[i][0]\n",
    "    aux = aux.split()\n",
    "    matrix[i] = aux"
   ]
  },
  {
   "cell_type": "code",
   "execution_count": 129,
   "metadata": {},
   "outputs": [],
   "source": [
    "dim = int(matrix[0][0])\n",
    "del matrix[0]"
   ]
  },
  {
   "cell_type": "code",
   "execution_count": 130,
   "metadata": {},
   "outputs": [],
   "source": [
    "#criação da lista de adjacencia\n",
    "lista_adj = []\n",
    "\n",
    "for i in range(dim):\n",
    "    s1 = set()\n",
    "    for j in range(dim):\n",
    "        if(matrix[i][j]=='1'):\n",
    "            s1.add(j)\n",
    "    lista_adj.append(s1)"
   ]
  },
  {
   "cell_type": "markdown",
   "metadata": {},
   "source": [
    "## (I) Exibir os graus mínimo (δ(G)), máximo (∆(G)) e médio\n"
   ]
  },
  {
   "cell_type": "code",
   "execution_count": 131,
   "metadata": {
    "scrolled": true
   },
   "outputs": [
    {
     "name": "stdout",
     "output_type": "stream",
     "text": [
      "O grau max(∆(G)) é:  5\n",
      "O grau min(δ(G)) é:  2\n",
      "O grau medio é: 3.14\n"
     ]
    }
   ],
   "source": [
    "graus_g = []\n",
    "\n",
    "for i in range(dim):\n",
    "    graus_g.append(len(lista_adj[i]))\n",
    "\n",
    "print(\"O grau max(∆(G)) é: \",max(graus_g))\n",
    "print(\"O grau min(δ(G)) é: \",min(graus_g))\n",
    "print(f\"O grau medio é: {sum(graus_g)/dim:.2f}\")"
   ]
  },
  {
   "cell_type": "markdown",
   "metadata": {},
   "source": [
    "## (II) Exibir a sequência de graus de G;"
   ]
  },
  {
   "cell_type": "code",
   "execution_count": 132,
   "metadata": {},
   "outputs": [
    {
     "data": {
      "text/plain": [
       "[2, 3, 3, 3, 3, 3, 5]"
      ]
     },
     "execution_count": 132,
     "metadata": {},
     "output_type": "execute_result"
    }
   ],
   "source": [
    "sorted(graus_g)"
   ]
  },
  {
   "cell_type": "markdown",
   "metadata": {},
   "source": [
    "## (III) O grau e as vizinhanças aberta e fechada de um vértice v informado pelo usuário;"
   ]
  },
  {
   "cell_type": "code",
   "execution_count": 26,
   "metadata": {
    "scrolled": false
   },
   "outputs": [
    {
     "name": "stdout",
     "output_type": "stream",
     "text": [
      "Digite um vertice v : 5\n",
      "Grau de v: 3\n",
      "Vizinhaça aberta =  {2, 4, 6}\n",
      "Vizinhaça fechada =  {2, 4, 5, 6}\n"
     ]
    }
   ],
   "source": [
    "vizinho_fechado = []\n",
    "\n",
    "v = int(input(\"Digite um vertice v : \"))\n",
    "\n",
    "print(\"Grau de v:\",len(lista_adj[v]))\n",
    "print(\"Vizinhaça aberta = \",lista_adj[v])\n",
    "\n",
    "lista_adj[v].add(v)\n",
    "print(\"Vizinhaça fechada = \",lista_adj[v])\n",
    "lista_adj[v].remove(v)\n"
   ]
  },
  {
   "cell_type": "markdown",
   "metadata": {},
   "source": [
    "## (IV) Determinar se dois vértices u e v informados pelo usuário são vizinhos"
   ]
  },
  {
   "cell_type": "code",
   "execution_count": 27,
   "metadata": {},
   "outputs": [
    {
     "name": "stdout",
     "output_type": "stream",
     "text": [
      "Digite o vertice V: 5\n",
      "Digite o vertice U: 6\n",
      "Sao vizinhos\n"
     ]
    }
   ],
   "source": [
    "v = int(input(\"Digite o vertice V: \"))\n",
    "u = int(input(\"Digite o vertice U: \"))\n",
    "\n",
    "if (v == u or matrix[u][v]=='1'):\n",
    "    print(\"Sao vizinhos\")\n",
    "else:\n",
    "    print(\"Nao sao vizinhos\")"
   ]
  },
  {
   "cell_type": "markdown",
   "metadata": {},
   "source": [
    "## (V) Informar se o grafo é k-regular, deixando claro o valor de k;"
   ]
  },
  {
   "cell_type": "code",
   "execution_count": 31,
   "metadata": {},
   "outputs": [
    {
     "name": "stdout",
     "output_type": "stream",
     "text": [
      "Não é k-regular\n"
     ]
    }
   ],
   "source": [
    "s1 = set(graus_g)\n",
    "\n",
    "for i in range(dim):\n",
    "    if( len(s1) > 1 ):\n",
    "        print(\"Não é k-regular\")\n",
    "        break\n",
    "    else:\n",
    "        print(\"é k regular com K=\",graus_g[0])"
   ]
  },
  {
   "cell_type": "markdown",
   "metadata": {},
   "source": [
    "## (VI) Informar se G é completo;"
   ]
  },
  {
   "cell_type": "code",
   "execution_count": 32,
   "metadata": {},
   "outputs": [
    {
     "name": "stdout",
     "output_type": "stream",
     "text": [
      "Não é completo\n"
     ]
    }
   ],
   "source": [
    "aux = 0\n",
    "for i in range(dim):\n",
    "    for k in range(dim):\n",
    "        if(i!=j  and matrix[i][j]==\"0\"):\n",
    "            aux = 1\n",
    "            break\n",
    "    break\n",
    "\n",
    "if(aux==1):\n",
    "    print(\"Não é completo\")\n",
    "else:\n",
    "    print(\"É completo\")\n",
    "            "
   ]
  },
  {
   "cell_type": "markdown",
   "metadata": {},
   "source": [
    "## (VII) Listar todos os vértices universais de G;"
   ]
  },
  {
   "cell_type": "code",
   "execution_count": 33,
   "metadata": {},
   "outputs": [
    {
     "name": "stdout",
     "output_type": "stream",
     "text": [
      "Não há vertices universais\n"
     ]
    }
   ],
   "source": [
    "s1 = set()\n",
    "\n",
    "for i in range(dim):\n",
    "    if( len(lista_adj[i]) == dim-1 ):\n",
    "        s1.add(i)\n",
    "\n",
    "if(len(s1)>0):\n",
    "    print(\"Os vertices universais são\",s1)\n",
    "else:\n",
    "    print(\"Não há vertices universais\")"
   ]
  },
  {
   "cell_type": "markdown",
   "metadata": {},
   "source": [
    "## (VIII) Listar todos os vértices isolados de G;"
   ]
  },
  {
   "cell_type": "code",
   "execution_count": 34,
   "metadata": {},
   "outputs": [
    {
     "name": "stdout",
     "output_type": "stream",
     "text": [
      "Não há vertices isolados\n"
     ]
    }
   ],
   "source": [
    "s1 = set()\n",
    "\n",
    "for i in range(dim):\n",
    "    if( len(lista_adj[i]) == 0 ):\n",
    "        s1.add(i)\n",
    "\n",
    "if( len(s1) > 0 ):\n",
    "    print(\"Os vertices isolados são\",s1)\n",
    "else:\n",
    "    print(\"Não há vertices isolados\")"
   ]
  },
  {
   "cell_type": "markdown",
   "metadata": {},
   "source": [
    "## (IX) Determinar o subgrafo de G induzido por um conjunto de vértices S ⊆ V (G) informado pelo usuário. Tal subgrafo é denotado por G[S]"
   ]
  },
  {
   "cell_type": "code",
   "execution_count": 65,
   "metadata": {
    "scrolled": true
   },
   "outputs": [
    {
     "name": "stdout",
     "output_type": "stream",
     "text": [
      "Quantos vertices deseja informar? 3\n",
      "---->  1\n",
      "---->  2\n",
      "---->  3\n",
      "0 1 1 0 0 0 0 \n",
      "1 0 1 0 0 0 0 \n",
      "1 1 0 0 0 0 0 \n",
      "0 0 0 0 0 0 0 \n",
      "0 0 0 0 0 0 0 \n",
      "0 0 0 0 0 0 0 \n",
      "0 0 0 0 0 0 0 \n"
     ]
    }
   ],
   "source": [
    "vertices_s = []\n",
    "sub_matrix = [[0 for _ in range(dim)] for _ in range(dim)]\n",
    "\n",
    "numero_vertices = int(input(\"Quantos vertices deseja informar? \"))\n",
    "\n",
    "for i in range(numero_vertices):\n",
    "    aux = int(input(\"---->  \"))\n",
    "    vertices_s.append(aux)\n",
    "    \n",
    "for i in range(numero_vertices):\n",
    "    for j in range(numero_vertices):\n",
    "        if(matrix[vertices_s[i]-1][vertices_s[j]-1]=='1' ):\n",
    "            sub_matrix[vertices_s[i]-1][vertices_s[j]-1]='1'\n",
    "\n",
    "for i in range(dim):\n",
    "  for j in range(dim):\n",
    "    print(\"%i\"%int(sub_matrix[i][j]), end=\" \")\n",
    "  print()"
   ]
  },
  {
   "cell_type": "markdown",
   "metadata": {},
   "source": [
    "## (X) Determinar o subgrafo de G induzido por um conjunto de arestas E' ⊆ E(G) informado pelo usuário. Tal subgrafo é denotado por G[E']"
   ]
  },
  {
   "cell_type": "code",
   "execution_count": 18,
   "metadata": {},
   "outputs": [
    {
     "name": "stdout",
     "output_type": "stream",
     "text": [
      "Uma aresta é a ligação entre dois vertices U e V\n",
      "Quantas arestas deseja informar? 1\n",
      "Aresta 1\n",
      "Digite o vertice U: 1\n",
      "Digite o vertice V: 2\n",
      "{1, 2}\n"
     ]
    }
   ],
   "source": [
    "s1 = set()\n",
    "\n",
    "print(\"Uma aresta é a ligação entre dois vertices U e V\")\n",
    "numero_arestas = int(input(\"Quantas arestas deseja informar? \"))\n",
    "\n",
    "for i in range(numero_arestas):\n",
    "    print(\"Aresta\",i+1)\n",
    "    u = int(input(\"Digite o vertice U: \"))\n",
    "    s1.add(u)\n",
    "    v = int(input(\"Digite o vertice V: \"))\n",
    "    s1.add(v)\n",
    "    \n",
    "print(s1)"
   ]
  },
  {
   "cell_type": "markdown",
   "metadata": {},
   "source": [
    "## (XI) Decidir se uma sequência de vértices v1; v2; :::; vk informada pelo usuário representa um passeio em G. Em casa afirmativo, informar se o passeio também constitui um ciclo ou um caminho"
   ]
  },
  {
   "cell_type": "code",
   "execution_count": 63,
   "metadata": {},
   "outputs": [
    {
     "name": "stdout",
     "output_type": "stream",
     "text": [
      "Digite o numero de vertices que será informado 4\n",
      "Digite o vertice  1\n",
      "----> 1\n",
      "Digite o vertice  2\n",
      "----> 2\n",
      "Digite o vertice  3\n",
      "----> 3\n",
      "Digite o vertice  4\n",
      "----> 1\n"
     ]
    }
   ],
   "source": [
    "matrix_vertices = []\n",
    "set_vertices = set()\n",
    "numero_vertices  = int(input(\"Digite o numero de vertices que será informado \"))\n",
    "\n",
    "for i in range(numero_vertices):\n",
    "    print(\"Digite o vertice \",i+1)\n",
    "    u = int(input(\"----> \"))\n",
    "    matrix_vertices.append(u)"
   ]
  },
  {
   "cell_type": "code",
   "execution_count": 64,
   "metadata": {},
   "outputs": [
    {
     "name": "stdout",
     "output_type": "stream",
     "text": [
      "É passeio\n",
      "É ciclo\n"
     ]
    }
   ],
   "source": [
    "passeio = True\n",
    "i = 0\n",
    "while (i < numero_vertices-1 and passeio == True):\n",
    "    if(matrix[matrix_vertices[i]-1][matrix_vertices[i+1]-1] == '0'):\n",
    "        passeio = False\n",
    "    else:\n",
    "        i = i+1\n",
    "\n",
    "if(passeio == True):\n",
    "    print(\"É passeio\")\n",
    "else:\n",
    "    print(\"Não é passeio\")\n",
    "\n",
    "if(passeio == True):\n",
    "    for i in range(len(matrix_vertices)):\n",
    "        set_vertices.add(matrix_vertices[i])\n",
    "    if(len(matrix_vertices) == len(set_vertices) ):\n",
    "        print(\"É caminho\")\n",
    "    else:\n",
    "        print(\"É ciclo\")"
   ]
  },
  {
   "cell_type": "markdown",
   "metadata": {},
   "source": [
    "## (XII) Determinar se um conjunto de vértices S ⊆ V (G) informado pelo usuário é uma clique de G. Em caso afirmativo, informar se a clique é maximal."
   ]
  },
  {
   "cell_type": "code",
   "execution_count": 116,
   "metadata": {},
   "outputs": [
    {
     "name": "stdout",
     "output_type": "stream",
     "text": [
      "Digite o numero de vertices que será informado 3\n",
      "Digite o vertice  1\n",
      "----> 5\n",
      "Digite o vertice  2\n",
      "----> 6\n",
      "Digite o vertice  3\n",
      "----> 7\n"
     ]
    }
   ],
   "source": [
    "matrix_vertices = []\n",
    "matrix_vertice_max = []\n",
    "numero_vertices  = int(input(\"Digite o numero de vertices que será informado \"))\n",
    "s1 = set()\n",
    "for i in range(numero_vertices):\n",
    "    print(\"Digite o vertice \",i+1)\n",
    "    u = int(input(\"----> \"))\n",
    "    s1.add(u)\n",
    "    matrix_vertices.append(u)\n",
    "\n",
    "\n",
    "for i in range(1,dim+1):#matrix dos vertices que sobraram\n",
    "    if (i not in s1):\n",
    "        matrix_vertice_max.append(i)\n"
   ]
  },
  {
   "cell_type": "code",
   "execution_count": 123,
   "metadata": {},
   "outputs": [
    {
     "name": "stdout",
     "output_type": "stream",
     "text": [
      "É uma clique\n",
      "É maximal\n"
     ]
    }
   ],
   "source": [
    "click = True\n",
    "click_max = True\n",
    "\n",
    "for i in range(numero_vertices):\n",
    "    for k in range(numero_vertices):\n",
    "        if( (i!=k) and (matrix[matrix_vertices[i]-1][matrix_vertices[k]-1] == '0')):\n",
    "            click = False\n",
    "\n",
    "if(click == False):\n",
    "    print(\"Não é uma clique\")\n",
    "else:\n",
    "    print(\"É uma clique\")\n",
    "    \n",
    "    for i in range(len(matrix_vertice_max)):\n",
    "        cont = 0\n",
    "        for j in range (len(matrix_vertices)):\n",
    "            if matrix[matrix_vertice_max[i]-1][matrix_vertices[j]-1] == '1':\n",
    "                cont = cont+1\n",
    "            if(cont>=numero_vertices):\n",
    "                click_max = False\n",
    "\n",
    "    if(click_max == False ):\n",
    "        print(\"Não é maximal\")\n",
    "    else:\n",
    "        print(\"É maximal\")"
   ]
  }
 ],
 "metadata": {
  "kernelspec": {
   "display_name": "Python 3 (ipykernel)",
   "language": "python",
   "name": "python3"
  },
  "language_info": {
   "codemirror_mode": {
    "name": "ipython",
    "version": 3
   },
   "file_extension": ".py",
   "mimetype": "text/x-python",
   "name": "python",
   "nbconvert_exporter": "python",
   "pygments_lexer": "ipython3",
   "version": "3.9.7"
  }
 },
 "nbformat": 4,
 "nbformat_minor": 4
}
